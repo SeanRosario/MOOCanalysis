{
 "cells": [
  {
   "cell_type": "markdown",
   "metadata": {},
   "source": [
    "# Data Analyst Internship Assignment\n",
    "---\n",
    "\n",
    "*Author: Sean D Rosario<br\\ >Date published: May 07, 2016*\n",
    "\n",
    "#### This code looks at data sets from the Entrepreneurship 101 MOOC on edX.\n",
    "<br />\n",
    "I use insights from the data to answer the following questions:\n",
    "1.\tHow many students attempted all the assignments?\n",
    "2.\tHow many students received a verified certificate?\n",
    "3.\tWhich groups of students tended to complete the assignments and earn a verified certificates?\n",
    "4.\tWhat should we do to encourage more learners to complete the course and earn a verified certificate?\n",
    "5.\tWhat data set(s) do you not have that you would like to get to answer the questions above?\n",
    "---"
   ]
  },
  {
   "cell_type": "markdown",
   "metadata": {},
   "source": [
    "Importing the relevant packages"
   ]
  },
  {
   "cell_type": "code",
   "execution_count": 302,
   "metadata": {
    "collapsed": false
   },
   "outputs": [],
   "source": [
    "import pandas as pd\n",
    "import numpy as np\n",
    "import matplotlib.pyplot as plt\n",
    "from mpl_toolkits.basemap import Basemap\n",
    "%matplotlib inline\n",
    "from sklearn import datasets, linear_model\n",
    "from sklearn.cross_validation import train_test_split"
   ]
  },
  {
   "cell_type": "code",
   "execution_count": 303,
   "metadata": {
    "collapsed": true
   },
   "outputs": [],
   "source": [
    "import pandas as pd\n",
    "import numpy as np\n",
    "import scipy as sp\n",
    "import matplotlib.pyplot as plt\n",
    "%matplotlib inline\n",
    "from sklearn import tree\n",
    "from sklearn.tree import DecisionTreeClassifier\n",
    "from sklearn.tree import export_graphviz\n",
    "from IPython.display import Image\n",
    "#import StringIO, pydot\n",
    "#from pydot import graph_from_dot_data\n",
    "from sklearn.tree import DecisionTreeRegressor\n",
    "from sklearn.ensemble import AdaBoostRegressor\n",
    "from sklearn.metrics import confusion_matrix,roc_auc_score\n",
    "from sklearn.cross_validation import train_test_split\n",
    "from sklearn import metrics\n",
    "import xgboost as xgb\n",
    "import matplotlib.pyplot as plt\n",
    "from sklearn import linear_model, svm, datasets\n",
    "from sklearn.metrics import roc_curve, auc"
   ]
  },
  {
   "cell_type": "markdown",
   "metadata": {},
   "source": [
    "Importing the data"
   ]
  },
  {
   "cell_type": "code",
   "execution_count": 304,
   "metadata": {
    "collapsed": true
   },
   "outputs": [],
   "source": [
    "df1 = pd.read_csv(\"data set 1.csv\")\n",
    "df2 = pd.read_csv(\"data set 2.csv\")\n",
    "df3 = pd.read_csv(\"data set 3.csv\")\n",
    "df4 = pd.read_csv(\"data set 4.csv\")"
   ]
  },
  {
   "cell_type": "markdown",
   "metadata": {},
   "source": [
    "Previewing the data"
   ]
  },
  {
   "cell_type": "code",
   "execution_count": 305,
   "metadata": {
    "collapsed": false
   },
   "outputs": [
    {
     "data": {
      "text/html": [
       "<div>\n",
       "<table border=\"1\" class=\"dataframe\">\n",
       "  <thead>\n",
       "    <tr style=\"text-align: right;\">\n",
       "      <th></th>\n",
       "      <th>id</th>\n",
       "      <th>language</th>\n",
       "      <th>location</th>\n",
       "      <th>year_of_birth</th>\n",
       "      <th>gender</th>\n",
       "      <th>level_of_education</th>\n",
       "      <th>goals</th>\n",
       "    </tr>\n",
       "  </thead>\n",
       "  <tbody>\n",
       "    <tr>\n",
       "      <th>0</th>\n",
       "      <td>9166517</td>\n",
       "      <td>NaN</td>\n",
       "      <td>NaN</td>\n",
       "      <td>1983</td>\n",
       "      <td>m</td>\n",
       "      <td>b</td>\n",
       "      <td>NaN</td>\n",
       "    </tr>\n",
       "    <tr>\n",
       "      <th>1</th>\n",
       "      <td>8887378</td>\n",
       "      <td>NaN</td>\n",
       "      <td>NaN</td>\n",
       "      <td>1991</td>\n",
       "      <td>m</td>\n",
       "      <td>m</td>\n",
       "      <td>Design MOOCS\\rFree access to knowledge and inf...</td>\n",
       "    </tr>\n",
       "    <tr>\n",
       "      <th>2</th>\n",
       "      <td>8917804</td>\n",
       "      <td>NaN</td>\n",
       "      <td>NaN</td>\n",
       "      <td>1991</td>\n",
       "      <td>f</td>\n",
       "      <td>hs</td>\n",
       "      <td>I'm interested because I am all about improvem...</td>\n",
       "    </tr>\n",
       "    <tr>\n",
       "      <th>3</th>\n",
       "      <td>3327768</td>\n",
       "      <td>NaN</td>\n",
       "      <td>NaN</td>\n",
       "      <td>1994</td>\n",
       "      <td>m</td>\n",
       "      <td>hs</td>\n",
       "      <td>To get educated in computer sciences</td>\n",
       "    </tr>\n",
       "    <tr>\n",
       "      <th>4</th>\n",
       "      <td>6966768</td>\n",
       "      <td>NaN</td>\n",
       "      <td>NaN</td>\n",
       "      <td>None</td>\n",
       "      <td>NaN</td>\n",
       "      <td>NaN</td>\n",
       "      <td>NaN</td>\n",
       "    </tr>\n",
       "  </tbody>\n",
       "</table>\n",
       "</div>"
      ],
      "text/plain": [
       "        id language location year_of_birth gender level_of_education  \\\n",
       "0  9166517      NaN      NaN          1983      m                  b   \n",
       "1  8887378      NaN      NaN          1991      m                  m   \n",
       "2  8917804      NaN      NaN          1991      f                 hs   \n",
       "3  3327768      NaN      NaN          1994      m                 hs   \n",
       "4  6966768      NaN      NaN          None    NaN                NaN   \n",
       "\n",
       "                                               goals  \n",
       "0                                                NaN  \n",
       "1  Design MOOCS\\rFree access to knowledge and inf...  \n",
       "2  I'm interested because I am all about improvem...  \n",
       "3               To get educated in computer sciences  \n",
       "4                                                NaN  "
      ]
     },
     "execution_count": 305,
     "metadata": {},
     "output_type": "execute_result"
    }
   ],
   "source": [
    "df1.head()"
   ]
  },
  {
   "cell_type": "code",
   "execution_count": 290,
   "metadata": {
    "collapsed": false
   },
   "outputs": [
    {
     "data": {
      "text/html": [
       "<div>\n",
       "<table border=\"1\" class=\"dataframe\">\n",
       "  <thead>\n",
       "    <tr style=\"text-align: right;\">\n",
       "      <th></th>\n",
       "      <th>id</th>\n",
       "      <th>grade</th>\n",
       "      <th>HW 01</th>\n",
       "      <th>HW 02</th>\n",
       "      <th>HW 03</th>\n",
       "      <th>HW Avg</th>\n",
       "      <th>Final</th>\n",
       "      <th>Enrollment Track</th>\n",
       "      <th>Verification Status</th>\n",
       "      <th>Certificate Eligible</th>\n",
       "      <th>Certificate Delivered</th>\n",
       "      <th>Certificate Type</th>\n",
       "    </tr>\n",
       "  </thead>\n",
       "  <tbody>\n",
       "    <tr>\n",
       "      <th>0</th>\n",
       "      <td>3550064</td>\n",
       "      <td>0.00</td>\n",
       "      <td>0.0</td>\n",
       "      <td>0.0</td>\n",
       "      <td>0.0</td>\n",
       "      <td>0.0</td>\n",
       "      <td>0.000000</td>\n",
       "      <td>honor</td>\n",
       "      <td>NaN</td>\n",
       "      <td>N</td>\n",
       "      <td>N</td>\n",
       "      <td>NaN</td>\n",
       "    </tr>\n",
       "    <tr>\n",
       "      <th>1</th>\n",
       "      <td>4959970</td>\n",
       "      <td>0.72</td>\n",
       "      <td>1.0</td>\n",
       "      <td>1.0</td>\n",
       "      <td>1.0</td>\n",
       "      <td>1.0</td>\n",
       "      <td>0.295455</td>\n",
       "      <td>honor</td>\n",
       "      <td>NaN</td>\n",
       "      <td>Y</td>\n",
       "      <td>Y</td>\n",
       "      <td>honor</td>\n",
       "    </tr>\n",
       "    <tr>\n",
       "      <th>2</th>\n",
       "      <td>6112145</td>\n",
       "      <td>0.00</td>\n",
       "      <td>0.0</td>\n",
       "      <td>0.0</td>\n",
       "      <td>0.0</td>\n",
       "      <td>0.0</td>\n",
       "      <td>0.000000</td>\n",
       "      <td>honor</td>\n",
       "      <td>NaN</td>\n",
       "      <td>N</td>\n",
       "      <td>N</td>\n",
       "      <td>NaN</td>\n",
       "    </tr>\n",
       "    <tr>\n",
       "      <th>3</th>\n",
       "      <td>239790</td>\n",
       "      <td>0.00</td>\n",
       "      <td>0.0</td>\n",
       "      <td>0.0</td>\n",
       "      <td>0.0</td>\n",
       "      <td>0.0</td>\n",
       "      <td>0.000000</td>\n",
       "      <td>honor</td>\n",
       "      <td>NaN</td>\n",
       "      <td>N</td>\n",
       "      <td>N</td>\n",
       "      <td>NaN</td>\n",
       "    </tr>\n",
       "    <tr>\n",
       "      <th>4</th>\n",
       "      <td>6780183</td>\n",
       "      <td>0.00</td>\n",
       "      <td>0.0</td>\n",
       "      <td>0.0</td>\n",
       "      <td>0.0</td>\n",
       "      <td>0.0</td>\n",
       "      <td>0.000000</td>\n",
       "      <td>honor</td>\n",
       "      <td>NaN</td>\n",
       "      <td>N</td>\n",
       "      <td>N</td>\n",
       "      <td>NaN</td>\n",
       "    </tr>\n",
       "  </tbody>\n",
       "</table>\n",
       "</div>"
      ],
      "text/plain": [
       "        id  grade  HW 01  HW 02  HW 03  HW Avg     Final Enrollment Track  \\\n",
       "0  3550064   0.00    0.0    0.0    0.0     0.0  0.000000            honor   \n",
       "1  4959970   0.72    1.0    1.0    1.0     1.0  0.295455            honor   \n",
       "2  6112145   0.00    0.0    0.0    0.0     0.0  0.000000            honor   \n",
       "3   239790   0.00    0.0    0.0    0.0     0.0  0.000000            honor   \n",
       "4  6780183   0.00    0.0    0.0    0.0     0.0  0.000000            honor   \n",
       "\n",
       "  Verification Status Certificate Eligible Certificate Delivered  \\\n",
       "0                 NaN                    N                     N   \n",
       "1                 NaN                    Y                     Y   \n",
       "2                 NaN                    N                     N   \n",
       "3                 NaN                    N                     N   \n",
       "4                 NaN                    N                     N   \n",
       "\n",
       "  Certificate Type  \n",
       "0              NaN  \n",
       "1            honor  \n",
       "2              NaN  \n",
       "3              NaN  \n",
       "4              NaN  "
      ]
     },
     "execution_count": 290,
     "metadata": {},
     "output_type": "execute_result"
    }
   ],
   "source": [
    "df2.head()"
   ]
  },
  {
   "cell_type": "markdown",
   "metadata": {},
   "source": [
    "## 1. How many students attempted all the assignments?\n"
   ]
  },
  {
   "cell_type": "code",
   "execution_count": 139,
   "metadata": {
    "collapsed": false
   },
   "outputs": [
    {
     "name": "stdout",
     "output_type": "stream",
     "text": [
      "564 students have attempted all the assignments\n"
     ]
    },
    {
     "name": "stderr",
     "output_type": "stream",
     "text": [
      "/anaconda/lib/python2.7/site-packages/ipykernel/__main__.py:1: UserWarning: Boolean Series key will be reindexed to match DataFrame index.\n",
      "  if __name__ == '__main__':\n"
     ]
    }
   ],
   "source": [
    "# Assuming that if a student received a scoe of zero on any componenet, he/she did not attempt it\n",
    "attempted_all = df2[df2[\"HW 01\"]>0][df2[\"HW 02\"]>0][df2[\"HW 03\"]>0][df2[\"Final\"]>0]\n",
    "print str(len(attempted_all))+ \" students have attempted all the assignments\""
   ]
  },
  {
   "cell_type": "markdown",
   "metadata": {},
   "source": [
    "## 2. How many students received a verified certificate?"
   ]
  },
  {
   "cell_type": "code",
   "execution_count": 140,
   "metadata": {
    "collapsed": false
   },
   "outputs": [
    {
     "data": {
      "text/plain": [
       "array([nan, 'honor', 'verified'], dtype=object)"
      ]
     },
     "execution_count": 140,
     "metadata": {},
     "output_type": "execute_result"
    }
   ],
   "source": [
    "df2[\"Certificate Type\"].unique()"
   ]
  },
  {
   "cell_type": "code",
   "execution_count": 141,
   "metadata": {
    "collapsed": false
   },
   "outputs": [
    {
     "name": "stdout",
     "output_type": "stream",
     "text": [
      "128 students received a verified certificate\n"
     ]
    },
    {
     "name": "stderr",
     "output_type": "stream",
     "text": [
      "/anaconda/lib/python2.7/site-packages/ipykernel/__main__.py:1: UserWarning: Boolean Series key will be reindexed to match DataFrame index.\n",
      "  if __name__ == '__main__':\n"
     ]
    }
   ],
   "source": [
    "number  = len(df2[df2[\"Certificate Type\"]=='verified'] [df2[\"Certificate Eligible\"]=='Y'])\n",
    "print str(number)+\" students received a verified certificate\""
   ]
  },
  {
   "cell_type": "markdown",
   "metadata": {},
   "source": [
    "## 3. Which groups of students tended to complete the assignments and earn verified certificates?\n"
   ]
  },
  {
   "cell_type": "markdown",
   "metadata": {},
   "source": [
    "I consider age groups. There is scope to do analysis on other groups as well.\n",
    "<br />\n",
    "<br />\n",
    "The question I try to answer is:\n",
    "<br />\n",
    "**Do learners of a certain age exhibit a willingness to pay for a verified certificate?**<br />(possibly because they have a credit card or more disposable income)"
   ]
  },
  {
   "cell_type": "code",
   "execution_count": 166,
   "metadata": {
    "collapsed": false
   },
   "outputs": [],
   "source": [
    "df5 = df1.merge(df2,on=\"id\") # Merged dataset 1 and dataset 2 based on id"
   ]
  },
  {
   "cell_type": "code",
   "execution_count": 267,
   "metadata": {
    "collapsed": false
   },
   "outputs": [
    {
     "name": "stderr",
     "output_type": "stream",
     "text": [
      "/anaconda/lib/python2.7/site-packages/ipykernel/__main__.py:1: UserWarning: Boolean Series key will be reindexed to match DataFrame index.\n",
      "  if __name__ == '__main__':\n",
      "/anaconda/lib/python2.7/site-packages/ipykernel/__main__.py:2: UserWarning: Boolean Series key will be reindexed to match DataFrame index.\n",
      "  from ipykernel import kernelapp as app\n",
      "/anaconda/lib/python2.7/site-packages/ipykernel/__main__.py:4: UserWarning: Boolean Series key will be reindexed to match DataFrame index.\n",
      "/anaconda/lib/python2.7/site-packages/ipykernel/__main__.py:5: UserWarning: Boolean Series key will be reindexed to match DataFrame index.\n"
     ]
    }
   ],
   "source": [
    "ID_passed = df5[df5[\"Verification Status\"]=='ID Verified'][df5[\"Certificate Eligible\"]==\"Y\"][\"year_of_birth\"]\n",
    "honor_passed = df5[df5[\"Verification Status\"]!='ID Verified'][df5[\"Certificate Eligible\"]==\"Y\"][\"year_of_birth\"]\n",
    "\n",
    "ID_failed = df5[df5[\"Verification Status\"]=='ID Verified'][df5[\"Certificate Eligible\"]==\"N\"][\"year_of_birth\"]\n",
    "honor_failed = df5[df5[\"Verification Status\"]!='ID Verified'][df5[\"Certificate Eligible\"]==\"N\"][\"year_of_birth\"]\n",
    "\n",
    "\n",
    "\n",
    "def make_age(list_of_str):\n",
    "    y1 = []\n",
    "    for ele in list_of_str:\n",
    "        try:\n",
    "            ele = 2016 - int(ele)\n",
    "            \n",
    "            # Filtered out ages less than 5 and greater and 100, because I noticed ages above 120\n",
    "            # which is clearly an error in the data, as the oldest living person is 120!!\n",
    "            if (ele<5 or ele>100): \n",
    "                continue\n",
    "        except:\n",
    "            continue\n",
    "        y1.append(ele)\n",
    "    return y1\n",
    "\n",
    "ID_passed = make_int(ID_passed)\n",
    "honor_passed = make_int(honor_passed)\n",
    "ID_failed = make_int(ID_failed)\n",
    "honor_failed = make_int(honor_failed)"
   ]
  },
  {
   "cell_type": "code",
   "execution_count": 277,
   "metadata": {
    "collapsed": false
   },
   "outputs": [
    {
     "data": {
      "image/png": "[encoded data removed]",
      "text/plain": [
       "<matplotlib.figure.Figure at 0x11b774e10>"
      ]
     },
     "metadata": {},
     "output_type": "display_data"
    }
   ],
   "source": [
    "plt.figure(figsize=(15,10))\n",
    "\n",
    "# the histogram of the data\n",
    "plt.subplot(221)\n",
    "plt.hist(ID_passed,20,color=\"green\")\n",
    "plt.xlabel('Year of birth')\n",
    "plt.ylabel('Count')\n",
    "plt.title('ID verified students who passed',fontsize=\"12\")\n",
    "\n",
    "plt.subplot(222)\n",
    "plt.hist(honor_passed,20,color=\"green\")\n",
    "plt.xlabel('Year of birth')\n",
    "plt.ylabel('Count')\n",
    "plt.title('Honor verified students who passed',fontsize=\"12\")\n",
    "\n",
    "# the histogram of the data\n",
    "plt.subplot(223)\n",
    "plt.hist(ID_failed,20,color=\"red\")\n",
    "plt.xlabel('Year of birth')\n",
    "plt.ylabel('Count')\n",
    "plt.title('ID verified students who failed',fontsize=\"12\")\n",
    "\n",
    "plt.subplot(224)\n",
    "plt.hist(honor_failed,20,color=\"red\")\n",
    "plt.xlabel('Year of birth')\n",
    "plt.ylabel('Count')\n",
    "plt.title('Honor students who failed',fontsize=\"12\")\n",
    "\n",
    "plt.suptitle(\"Distribution of ages among different segments of students\",fontsize=\"15\")\n",
    "plt.show()"
   ]
  },
  {
   "cell_type": "markdown",
   "metadata": {},
   "source": [
    "By visual inspection, students who DO NOT pay for the $99 verified version of the course tend to be younger than ID verified students."
   ]
  },
  {
   "cell_type": "markdown",
   "metadata": {},
   "source": [
    "## 4. What should we do to encourage more learners to complete the course and earn a verified certificate?"
   ]
  },
  {
   "cell_type": "markdown",
   "metadata": {},
   "source": [
    "I try to look at scores on initial homeworks as an indicator that a student might not complete(pass) the class"
   ]
  },
  {
   "cell_type": "code",
   "execution_count": 319,
   "metadata": {
    "collapsed": false
   },
   "outputs": [
    {
     "data": {
      "image/png": "[encoded data removed]",
      "text/plain": [
       "<matplotlib.figure.Figure at 0x11a63ff50>"
      ]
     },
     "metadata": {},
     "output_type": "display_data"
    }
   ],
   "source": [
    "\n",
    "x1 = df2[\"HW 01\"][df2[\"HW 01\"]>0]\n",
    "x2 = df2[\"HW 02\"][df2[\"HW 02\"]>0]\n",
    "x3 = df2[\"HW 03\"][df2[\"HW 03\"]>0]\n",
    "final = df2[\"Final\"][df2[\"Final\"]>0]\n",
    "\n",
    "plt.boxplot([x1,x2,x3,final])\n",
    "\n",
    "plt.xticks=[\"2\",\"3\",\"4\",\"5\"]\n",
    "plt.title(\"Boxplot of component scores\",fontsize=\"15\")\n",
    "plt.show()"
   ]
  },
  {
   "cell_type": "markdown",
   "metadata": {},
   "source": [
    "### Looking at the distributions of the HW scores"
   ]
  },
  {
   "cell_type": "code",
   "execution_count": 143,
   "metadata": {
    "collapsed": false
   },
   "outputs": [
    {
     "data": {
      "image/png": "[encoded data removed]",
      "text/plain": [
       "<matplotlib.figure.Figure at 0x112bb70d0>"
      ]
     },
     "metadata": {},
     "output_type": "display_data"
    }
   ],
   "source": [
    "# plot with various axes scales\n",
    "plt.figure(figsize=(10,10))\n",
    "\n",
    "# Plotting the distribution of HW 01\n",
    "plt.subplot(221)\n",
    "plt.hist(df2[\"HW 01\"][df2[\"HW 01\"]>0])\n",
    "plt.title(\"HW 01\" ,fontsize=14, fontweight='bold')\n",
    "plt.grid(True)\n",
    "\n",
    "# Plotting the distribution of HW 02\n",
    "plt.subplot(222)\n",
    "plt.hist(df2[\"HW 02\"][df2[\"HW 02\"]>0])\n",
    "plt.title('HW 02',fontsize=14, fontweight='bold')\n",
    "plt.grid(True)\n",
    "\n",
    "# Plotting the distribution of HW 03\n",
    "plt.subplot(223)\n",
    "plt.hist(df2[\"HW 03\"][df2[\"HW 03\"]>0])\n",
    "plt.title('HW 03',fontsize=14, fontweight='bold')\n",
    "plt.grid(True)\n",
    "\n",
    "# Plotting the distribution of HW 04\n",
    "plt.subplot(224)\n",
    "plt.hist(df2[\"Final\"][df2[\"Final\"]>0],color=\"green\")\n",
    "plt.title('Final',fontsize=14, fontweight='bold')\n",
    "plt.grid(True)\n",
    "\n",
    "plt.show()"
   ]
  },
  {
   "cell_type": "code",
   "execution_count": 311,
   "metadata": {
    "collapsed": false
   },
   "outputs": [
    {
     "data": {
      "text/plain": [
       "<matplotlib.legend.Legend at 0x11c2fbfd0>"
      ]
     },
     "execution_count": 311,
     "metadata": {},
     "output_type": "execute_result"
    },
    {
     "data": {
      "image/png": "[encoded data removed]",
      "text/plain": [
       "<matplotlib.figure.Figure at 0x11b1e3090>"
      ]
     },
     "metadata": {},
     "output_type": "display_data"
    }
   ],
   "source": [
    "plt.figure(figsize=(10,10))\n",
    "\n",
    "plt.subplot(221)\n",
    "plt.scatter(df2[\"grade\"][df2[\"grade\"]>=0.7],df2[\"HW 01\"][df2[\"grade\"]>=0.7],color=\"green\",label = \"Pass\")\n",
    "plt.scatter(df2[\"grade\"][df2[\"grade\"]<=0.7],df2[\"HW 01\"][df2[\"grade\"]<=0.7],color=\"red\",label = \"Fail\")\n",
    "plt.title(\"Plot of scores of HW 01\",fontsize = 13)\n",
    "plt.legend()\n",
    "\n",
    "plt.subplot(222)\n",
    "plt.scatter(df2[\"grade\"][df2[\"grade\"]>=0.7],df2[\"HW 02\"][df2[\"grade\"]>=0.7],color=\"green\",label = \"Pass\")\n",
    "plt.scatter(df2[\"grade\"][df2[\"grade\"]<=0.7],df2[\"HW 02\"][df2[\"grade\"]<=0.7],color=\"red\",label = \"Fail\")\n",
    "plt.title(\"Plot of scores of HW 02\",fontsize = 13)\n",
    "plt.legend()\n"
   ]
  },
  {
   "cell_type": "markdown",
   "metadata": {},
   "source": [
    "Students who pass the course in the end, seem to have done well on HW 01 and HW 2"
   ]
  },
  {
   "cell_type": "markdown",
   "metadata": {},
   "source": [
    "### Let's Reverse engineering the grading system"
   ]
  },
  {
   "cell_type": "code",
   "execution_count": 256,
   "metadata": {
    "collapsed": false
   },
   "outputs": [
    {
     "name": "stdout",
     "output_type": "stream",
     "text": [
      "Coefficients: \n",
      " HW 1: 0.200475739085 \n",
      " HW 2: 0.200365082098 \n",
      " HW 3: 0.199515302434 \n",
      " Final: 0.39977018449\n",
      "\n",
      "Residual sum of squares: 0.00\n",
      "Variance score: 1.00\n"
     ]
    }
   ],
   "source": [
    "X = df2[[\"HW 01\",\"HW 02\",\"HW 03\",\"Final\"]]\n",
    "y = df2[\"grade\"]\n",
    "\n",
    "X_train, X_test, y_train, y_test = train_test_split(X, y, test_size=0.2, random_state=42)\n",
    "\n",
    "# Code based on the example at: \n",
    "# http://scikit-learn.org/stable/auto_examples/linear_model/plot_ols.html\n",
    "\n",
    "# Create linear regression object\n",
    "regr = linear_model.LinearRegression()\n",
    "\n",
    "# Train the model using the training sets\n",
    "regr.fit(X, y)\n",
    "\n",
    "# The coefficients\n",
    "print \"Coefficients: \\n HW 1: {0} \\n HW 2: {1} \\n HW 3: {2} \\n Final: {3}\\n\".format(float(regr.coef_[0]),float(regr.coef_[1]),float(regr.coef_[2]),float(regr.coef_[3]))\n",
    "# The mean square error\n",
    "print(\"Residual sum of squares: %.2f\"\n",
    "      % np.mean((regr.predict(X_test) - y_test) ** 2))\n",
    "# Explained variance score: 1 is perfect prediction\n",
    "print('Variance score: %.2f' % regr.score(X_test, y_test))"
   ]
  },
  {
   "cell_type": "markdown",
   "metadata": {},
   "source": [
    "Therefore the grading goes as follows:\n",
    "\n",
    "* HW 1 : $20\\%$ \n",
    "* HW 2 : $20\\%$\n",
    "*  HW 3 : $20\\%$\n",
    "* Final :  $40\\%$\n"
   ]
  },
  {
   "cell_type": "markdown",
   "metadata": {},
   "source": [
    "### Now I comput the likelihood of Passing based on the score on scores of HW 1 and HW 2\n",
    "Let us try to model  $ P \\ ( \\ Grade \\geq 0.7 \\ | \\ HW1 ,\\ HW2) $"
   ]
  },
  {
   "cell_type": "code",
   "execution_count": 278,
   "metadata": {
    "collapsed": false
   },
   "outputs": [],
   "source": [
    "hw1 = df2[\"HW 01\"]\n",
    "hw2 = df2[\"HW 02\"]\n",
    "d = pd.DataFrame({\"HW 01\": hw1,\"HW 02\": hw2,'bias': np.ones(len(hw1)), \"y\": 1.0*(df2[\"grade\"]>=0.7)})   #,\"HW 02\": hw2,'bias': np.ones(len(hw1))\n",
    "d= d[d[\"HW 01\"]>0]\n",
    "d= d.dropna()\n",
    "#X = pd.DataFrame(data=d)\n",
    "#y = 1*(df2[\"grade\"]>=0.7)\n",
    "\n",
    "X = d.drop(\"y\",1)\n",
    "y = d[\"y\"]\n",
    "X_train, X_test, y_train, y_test = train_test_split(X, y, test_size=0.2, random_state=42)"
   ]
  },
  {
   "cell_type": "code",
   "execution_count": 281,
   "metadata": {
    "collapsed": false
   },
   "outputs": [
    {
     "data": {
      "image/png": "[encoded data removed]",
      "text/plain": [
       "<matplotlib.figure.Figure at 0x11b4c5990>"
      ]
     },
     "metadata": {},
     "output_type": "display_data"
    }
   ],
   "source": [
    "#Logistic Regression\n",
    "log_regresion = linear_model.LogisticRegression(C=1e30).fit(X_train, y_train)\n",
    "log_reg_preds_test = log_regresion.predict_proba(X_test)\n",
    "lr_fpr, lr_tpr, _ = roc_curve(y_test, log_reg_preds_test[:,1])\n",
    "lr_auc = auc(lr_fpr,lr_tpr)\n",
    "plt.plot(lr_fpr, lr_tpr, label='LR - AUC:'+str(lr_auc))\n",
    "plt.fill_between(lr_fpr,lr_tpr, alpha=0.25)\n",
    "\n",
    "#Decision Tree\n",
    "decision_tree = DecisionTreeClassifier().fit(X_train, y_train)\n",
    "dt_preds_test = decision_tree.predict_proba(X_test)\n",
    "dt_fpr, dt_tpr, _ = roc_curve(y_test, dt_preds_test[:,1])\n",
    "dt_auc = auc(dt_fpr,dt_tpr)\n",
    "plt.plot(dt_fpr, dt_tpr, label='Decision tree - AUC:'+str(dt_auc))\n",
    "plt.fill_between(dt_fpr,dt_tpr, alpha=0.25)\n",
    "\n",
    "\n",
    "#Printing the random line\n",
    "x = [0.0, 1.0]\n",
    "plt.plot(x, x, linestyle='dashed', color='red', linewidth=2, label='Random')\n",
    "\n",
    "plt.xlabel(\"FPR\", fontsize=14)\n",
    "plt.ylabel(\"TPR\", fontsize=14)\n",
    "plt.title(\"ROC Curve\", fontsize=14)\n",
    "plt.legend(loc=4)\n",
    "plt.show()"
   ]
  },
  {
   "cell_type": "markdown",
   "metadata": {},
   "source": [
    "Note:\n",
    "- Random guessing would give us an AUC of 0.5\n",
    "- **High AUCs imply that the two models perform much better than random guessing**\n"
   ]
  },
  {
   "cell_type": "code",
   "execution_count": 287,
   "metadata": {
    "collapsed": false
   },
   "outputs": [
    {
     "name": "stdout",
     "output_type": "stream",
     "text": [
      "Accuracy using logisitic regression is  95.5223880597\n",
      "Accuracy using logisitic regression is  97.0149253731\n"
     ]
    }
   ],
   "source": [
    "tot = float(len(y_test))\n",
    "count =0.0\n",
    "for i,j in zip(log_regresion.predict(X_test),y_test):\n",
    "    if i==j:\n",
    "        count +=1\n",
    "\n",
    "print \"Accuracy using logisitic regression is \", count/tot *100\n",
    "\n",
    "tot = float(len(y_test))\n",
    "count =0.0\n",
    "for i,j in zip(decision_tree.predict(X_test),y_test):\n",
    "    if i==j:\n",
    "        count +=1\n",
    "\n",
    "print \"Accuracy using logisitic regression is \", count/tot *100"
   ]
  },
  {
   "cell_type": "markdown",
   "metadata": {
    "collapsed": false
   },
   "source": [
    "** Thus, we can predict with a high accuracy, whether or not a student would pass the course given his/her scores on the first two homeworks**\n",
    "\n",
    "Possible actions on this insight:\n",
    "- Email the students who have a low probability of completing the course, with positive encouragement - maybe reminding them of the benefits of "
   ]
  },
  {
   "cell_type": "markdown",
   "metadata": {},
   "source": [
    "## 5. What data set(s) do you not have that you would like to get to answer the questions above?\n"
   ]
  },
  {
   "cell_type": "markdown",
   "metadata": {},
   "source": [
    "Another dataset that could provide a lot more information is: student's interaction with the website such as: clicks, scrolls, mouse activity, etc could be logged. This raw data could be mined and interesting insights and pattern can be discovered.\n",
    "\n",
    "#### Examples of what could be mined:\n",
    "- What questions students are spending more time on\n",
    "- Which lecture videos students pause or skip more than others\n",
    "- How often a student watches lectures or does quizzes\n",
    "\n",
    "These sort of inquires can help the course content creators understand what the student preferences are and what they struggle with"
   ]
  },
  {
   "cell_type": "code",
   "execution_count": null,
   "metadata": {
    "collapsed": true
   },
   "outputs": [],
   "source": []
  }
 ],
 "metadata": {
  "kernelspec": {
   "display_name": "Python 2",
   "language": "python",
   "name": "python2"
  },
  "language_info": {
   "codemirror_mode": {
    "name": "ipython",
    "version": 2
   },
   "file_extension": ".py",
   "mimetype": "text/x-python",
   "name": "python",
   "nbconvert_exporter": "python",
   "pygments_lexer": "ipython2",
   "version": "2.7.11"
  }
 },
 "nbformat": 4,
 "nbformat_minor": 0
}
